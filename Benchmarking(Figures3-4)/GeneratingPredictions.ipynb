{
 "cells": [
  {
   "cell_type": "markdown",
   "id": "2f19f847",
   "metadata": {},
   "source": [
    "# Generating Predictions for all Datasets in the Benchmarking Data"
   ]
  },
  {
   "cell_type": "code",
   "execution_count": 3,
   "id": "a30eafc3",
   "metadata": {},
   "outputs": [],
   "source": [
    "import pandas as pd\n",
    "import matplotlib.pyplot as plt\n",
    "\n",
    "import sys\n",
    "sys.path.append('../')\n",
    "import conf #This is the local config file for setting the supplements directory to your local environment\n",
    "\n",
    "odir = conf.SUPPLEMENTS_DIR+'Benchmarking (Fig3-4)/'\n",
    "\n",
    "#load benchmarking data\n",
    "y_data = pd.read_csv(odir+'benchmark_dataset_Y.tsv', sep = '\\t', index_col = 0)\n",
    "st_data = pd.read_csv(odir + 'benchmark_dataset_Y.tsv', sep = '\\t', index_col = 0)\n",
    "\n",
    "\n",
    "#load Y meta data\n",
    "y_meta = pd.read_csv('meta_y.tsv', sep = '\\t')\n",
    "#expand meta so that each row corresponds to a single kinase condition\n",
    "y_meta['Kinases'] = y_meta['Kinases'].apply(lambda x: x.split(','))\n",
    "y_meta = y_meta.explode('Kinases')\n",
    "y_meta.rename({'Unnamed: 0': 'Dataset'}, axis = 1, inplace = True)\n",
    "y_meta = y_meta.drop_duplicates()\n",
    "y_meta.reset_index(inplace = True)\n",
    "#load st meta data\n",
    "st_meta = pd.read_csv('meta_st.tsv', sep = '\\t')\n",
    "#expand meta so that each row corresponds to a single kinase condition\n",
    "st_meta['Kinases'] = st_meta['Kinases'].apply(lambda x: str(x).split(','))\n",
    "st_meta = st_meta.explode('Kinases')\n",
    "st_meta.rename({'Unnamed: 0': 'Dataset'}, axis = 1, inplace = True)\n",
    "st_meta = st_meta.drop_duplicates()\n",
    "st_meta.reset_index(inplace = True)\n",
    "\n",
    "#Load mapped PhosphoSitePlus\n",
    "PSP = pd.read_csv(odir + '/psp_mapped_Nov2021.tsv', sep = '\\t', index_col = 0)"
   ]
  },
  {
   "cell_type": "markdown",
   "id": "a6d36730",
   "metadata": {},
   "source": [
    "## KSTAR"
   ]
  },
  {
   "cell_type": "markdown",
   "id": "b92b2406",
   "metadata": {},
   "source": [
    "For using KSTAR with benchmarking data, we looked for enriched kinases either in the upregulated (FC > 1) or downregulated sites (FC < 1) (depending on the direction of perturbation). To do that, needed to split the benchmarking dataset between the up and downregulated conditions."
   ]
  },
  {
   "cell_type": "code",
   "execution_count": null,
   "id": "ffe9ace3",
   "metadata": {},
   "outputs": [],
   "source": [
    "#need to split the dataset between up and down\n",
    "up_datasets = y_meta.loc[y_meta['Direction'] == 'Up','Dataset'].unique()\n",
    "down_datasets = y_meta.loc[y_meta['Direction'] == 'Down','Dataset'].unique()\n",
    "#run for upregulated sites\n",
    "y_up = y_data[['KSTAR_ACCESSION','KSTAR_SITE','KSTAR_PEPTIDE','KSTAR_NUM_COMPENDIA','KSTAR_NUM_COMPENDIA_CLASS']+list(up_datasets)]\n",
    "y_up.to_csv('benchmark_dataset_Y_up.tsv',sep='\\t')\n",
    "y_down = y_data[['KSTAR_ACCESSION','KSTAR_SITE','KSTAR_PEPTIDE','KSTAR_NUM_COMPENDIA','KSTAR_NUM_COMPENDIA_CLASS']+list(down_datasets)]\n",
    "y_down.to_csv('benchmark_dataset_Y_down.tsv',sep='\\t')"
   ]
  },
  {
   "cell_type": "code",
   "execution_count": null,
   "id": "ffcd86ae",
   "metadata": {},
   "outputs": [],
   "source": [
    "#split st (currently not an up datasets)\n",
    "up_datasets = st_meta.loc[st_meta['Direction'] == 'Up','Dataset'].unique()\n",
    "down_datasets = st_meta.loc[st_meta['Direction'] == 'Down','Dataset'].unique()\n",
    "#run for upregulated sites\n",
    "st_up = st_data[['KSTAR_ACCESSION','KSTAR_SITE','KSTAR_PEPTIDE','KSTAR_NUM_COMPENDIA','KSTAR_NUM_COMPENDIA_CLASS']+list(up_datasets)]\n",
    "#st_up.to_csv('benchmark_dataset_ST_up.tsv',sep='\\t')\n",
    "st_down = st_data[['KSTAR_ACCESSION','KSTAR_SITE','KSTAR_PEPTIDE','KSTAR_NUM_COMPENDIA','KSTAR_NUM_COMPENDIA_CLASS']+list(down_datasets)]\n",
    "#st_down.to_csv('benchmark_dataset_ST_down.tsv',sep='\\t')"
   ]
  },
  {
   "cell_type": "markdown",
   "id": "fc6e3d1a",
   "metadata": {},
   "source": [
    "The above data was then run through the nextflow implementation of KSTAR, as these benchmarking datasets (particularly for ST kinases) were large and required high performance runs. For more details on this implementation, visit the KSTAR documentation."
   ]
  },
  {
   "cell_type": "markdown",
   "id": "0ef403f2",
   "metadata": {},
   "source": [
    "## KSEA"
   ]
  },
  {
   "cell_type": "code",
   "execution_count": null,
   "id": "08f1641a",
   "metadata": {},
   "outputs": [],
   "source": [
    "from Algorithms import KSEA      #custom made package based on original paper by Casado et al."
   ]
  },
  {
   "cell_type": "code",
   "execution_count": null,
   "id": "3ce945ec",
   "metadata": {},
   "outputs": [],
   "source": [
    "ksea_y = KSEA.KSEA(y_data, PSP,kinase_col = 'GENE', log_transform = True)\n",
    "ksea_y.runKSEA()\n",
    "ksea_st = KSEA.KSEA(st_data, PSP,kinase_col = 'GENE', log_transform = True)\n",
    "ksea_st.runKSEA()\n",
    "ksea = {'Y':ksea_y, 'ST':ksea_st}"
   ]
  },
  {
   "cell_type": "code",
   "execution_count": null,
   "id": "5bed2dcb",
   "metadata": {},
   "outputs": [],
   "source": [
    "ksea['Y'].saveResults(fname = 'benchmark_Y', odir = './KSEA_results/')\n",
    "ksea['ST'].saveResults(fname = 'benchmark_ST', odir = './KSEA_results/')"
   ]
  },
  {
   "cell_type": "markdown",
   "id": "7dbe28f4",
   "metadata": {},
   "source": [
    "## PTM-SEA"
   ]
  },
  {
   "cell_type": "markdown",
   "id": "dc050d36",
   "metadata": {},
   "source": [
    "PTM-SEA predictions were generated using their provided R gui, but the data needed to be formatted as indicated by the authors:"
   ]
  },
  {
   "cell_type": "code",
   "execution_count": null,
   "id": "504479f3",
   "metadata": {},
   "outputs": [],
   "source": [
    "#Y\n",
    "#take averages of duplicate sites (PTM-SEA requires this to be done beforehand)\n",
    "for_ptm_sea = y_data.groupby(['KSTAR_ACCESSION','KSTAR_SITE','KSTAR_PEPTIDE','KSTAR_NUM_COMPENDIA','KSTAR_NUM_COMPENDIA_CLASS']).mean().reset_index()\n",
    "#generate PTM-SEA formatted ids\n",
    "for_ptm_sea['KSTAR_SUBSTRATE'] = for_ptm_sea['KSTAR_ACCESSION']+'_'+for_ptm_sea['KSTAR_SITE']\n",
    "for_ptm_sea['id.uniprot'] = for_ptm_sea['KSTAR_SUBSTRATE'].apply(lambda x: x.split('_')[0]+';'+x.split('_')[1]+'-p')\n",
    "for_ptm_sea['id.flanking'] = for_ptm_sea['KSTAR_PEPTIDE'].apply(lambda x: x.upper()+'-p')\n",
    "for_ptm_sea.drop_duplicates(subset = ['id.uniprot'], inplace = True)\n",
    "#for_ptm_sea.to_csv('for_ptm_sea_Y.tsv', sep ='\\t')"
   ]
  },
  {
   "cell_type": "code",
   "execution_count": null,
   "id": "1e3cf155",
   "metadata": {},
   "outputs": [],
   "source": [
    "#ST\n",
    "#take averages of duplicate sites (PTM-SEA requires this to be done beforehand)\n",
    "for_ptm_sea = st_data.groupby(['KSTAR_ACCESSION','KSTAR_SITE','KSTAR_PEPTIDE','KSTAR_NUM_COMPENDIA','KSTAR_NUM_COMPENDIA_CLASS']).mean().reset_index()\n",
    "#generate PTM-SEA formatted ids\n",
    "for_ptm_sea['KSTAR_SUBSTRATE'] = for_ptm_sea['KSTAR_ACCESSION']+'_'+for_ptm_sea['KSTAR_SITE']\n",
    "for_ptm_sea['id.uniprot'] = for_ptm_sea['KSTAR_SUBSTRATE'].apply(lambda x: x.split('_')[0]+';'+x.split('_')[1]+'-p')\n",
    "for_ptm_sea['id.flanking'] = for_ptm_sea['KSTAR_PEPTIDE'].apply(lambda x: x.upper()+'-p')\n",
    "for_ptm_sea.drop_duplicates(subset = ['id.uniprot'], inplace = True)\n",
    "#for_ptm_sea.to_csv('for_ptm_sea_ST.tsv', sep ='\\t')"
   ]
  },
  {
   "cell_type": "markdown",
   "id": "22e039f6",
   "metadata": {},
   "source": [
    "Run data through the gui, then process to extract only kinase signatures\n",
    "- y_score: enrichment scores obtained for tyrosine kinase datasets\n",
    "- y_pvals: significance of scores obtained for tyrosine kinase datasets\n",
    "- st_score: enrichment scores obtained for serine/threonine kinase datasets\n",
    "- st_pvals: significance of scores obtained for serine/threonine kinase datasets"
   ]
  },
  {
   "cell_type": "code",
   "execution_count": null,
   "id": "8e733ae8",
   "metadata": {},
   "outputs": [],
   "source": [
    "#identify the kinase signatures in results to keep\n",
    "keep = []\n",
    "new_index = {}\n",
    "for pert in y_score.index:\n",
    "    if 'KINASE' in pert:\n",
    "        keep.append(pert)\n",
    "        if '/' in pert: \n",
    "            new_index[pert] = pert.split('/')[-1]\n",
    "        else:\n",
    "            new_index[pert] = pert.split('_')[-1]\n",
    "#keep only the kinase signatures, and simplify the naming to match other algorithms\n",
    "y_score = y_score.loc[keep]\n",
    "y_score.rename(new_index, inplace = True)\n",
    "y_pval = y_pval.loc[keep]\n",
    "y_pval.rename(new_index, inplace = True)\n",
    "\n",
    "#replace colnames from 'data.' to 'data:'\n",
    "new_col = {}\n",
    "for col in y_score.columns:\n",
    "    new_col[col] = col.replace('.',':')\n",
    "    \n",
    "y_score.rename(new_col, axis = 1, inplace = True)\n",
    "y_pval.rename(new_col, axis = 1, inplace = True)"
   ]
  },
  {
   "cell_type": "code",
   "execution_count": null,
   "id": "a1be338e",
   "metadata": {},
   "outputs": [],
   "source": [
    "#identify the kinase signatures in results to keep\n",
    "keep = []\n",
    "new_index = {}\n",
    "for pert in st_score.index:\n",
    "    if 'KINASE' in pert:\n",
    "        keep.append(pert)\n",
    "        if '/' in pert: \n",
    "            new_index[pert] = pert.split('/')[-1]\n",
    "        else:\n",
    "            new_index[pert] = pert.split('_')[-1]\n",
    "#keep only the kinase signatures, and simplify the naming to match other algorithms\n",
    "st_score = st_score.loc[keep]\n",
    "st_score.rename(new_index, inplace = True)\n",
    "st_pval = st_pval.loc[keep]\n",
    "st_pval.rename(new_index, inplace = True)\n",
    "\n",
    "#replace colnames from 'data.' to 'data:'\n",
    "new_col = {}\n",
    "for col in st_score.columns:\n",
    "    new_col[col] = col.replace('data.','data:')\n",
    "    if col == 'data.AKT_MK.2206_Wiechmann':\n",
    "        new_col[col] = 'data:AKT_MK-2206_Wiechmann'\n",
    "    elif col == 'data.AURK_MLN8054_0.25uM_Kellenbach':\n",
    "        new_col[col] = 'data:AURK_MLN8054_0.25uM_Kellenbach'\n",
    "    elif col ==  'data.CDK1_inhib_RO.3306_Petrone':\n",
    "        new_col[col] = 'data:CDK1_inhib_RO-3306_Petrone'\n",
    "    \n",
    "st_score.rename(new_col, axis = 1, inplace = True)\n",
    "st_pval.rename(new_col, axis = 1, inplace = True)"
   ]
  },
  {
   "cell_type": "markdown",
   "id": "5a361cf2",
   "metadata": {},
   "source": [
    "Saved data in FigShare is the reformatted results obtained via the above approach"
   ]
  },
  {
   "cell_type": "markdown",
   "id": "012fab82",
   "metadata": {},
   "source": [
    "## KARP"
   ]
  },
  {
   "cell_type": "code",
   "execution_count": null,
   "id": "8bc45cff",
   "metadata": {},
   "outputs": [],
   "source": [
    "from Algorithms import KARP    #custom made package based on original KARP paper"
   ]
  },
  {
   "cell_type": "code",
   "execution_count": null,
   "id": "1202f221",
   "metadata": {},
   "outputs": [],
   "source": [
    "#Y: generate control datasets (FC = 1 for all identified sites)\n",
    "data_cols = [col for col in y_data.columns if 'data:' in col]\n",
    "y_control = y_data.copy()\n",
    "for col in data_cols:\n",
    "    change = ~y_control[col].isna().values\n",
    "    y_control.loc[change, col] = 1\n",
    "\n",
    "#ST: generate control datasets (FC = 1 for all identified sites)\n",
    "data_cols = [col for col in st_data.columns if 'data:' in col]\n",
    "st_control = st_data.copy()\n",
    "for col in data_cols:\n",
    "    change = ~st_control[col].isna().values\n",
    "    st_control.loc[change, col] = 1"
   ]
  },
  {
   "cell_type": "code",
   "execution_count": null,
   "id": "37b377e2",
   "metadata": {},
   "outputs": [],
   "source": [
    "#Y: Run KARP on both control and condition dataset, then take the difference in K-score\n",
    "karp_y = KARP.KARP(y_data, PSP, kinase_col = 'GENE')\n",
    "karp_y.runKARP()\n",
    "karp_control_y = KARP.KARP(y_control, PSP, kinase_col = 'GENE')\n",
    "karp_control_y.runKARP()\n",
    "y_res = karp_y.K - karp_control_y.K\n",
    "#ST: Run KARP on both control and condition dataset, then take the difference in K-score\n",
    "karp_st = KARP.KARP(st_data, PSP, kinase_col = 'GENE')\n",
    "karp_st.runKARP()\n",
    "karp_control_st = KARP.KARP(st_control, PSP, kinase_col = 'GENE')\n",
    "karp_control_st.runKARP()\n",
    "st_res = karp_st.K - karp_control_st.K\n",
    "karp = {'Y':y_res, 'ST':st_res}"
   ]
  },
  {
   "cell_type": "markdown",
   "id": "5dba96a4",
   "metadata": {},
   "source": [
    "## KEA3"
   ]
  },
  {
   "cell_type": "code",
   "execution_count": null,
   "id": "b5f3dfef",
   "metadata": {},
   "outputs": [],
   "source": [
    "from Algorithms import KEA3      #custom built package for using the KEA3 web app with mapped datasets"
   ]
  },
  {
   "cell_type": "code",
   "execution_count": null,
   "id": "2ad1aaa6",
   "metadata": {},
   "outputs": [],
   "source": [
    "#Y\n",
    "#need to split the dataset between up and downregulated\n",
    "up_datasets = y_meta.loc[y_meta['Direction'] == 'Up','Dataset'].unique()\n",
    "down_datasets = y_meta.loc[y_meta['Direction'] == 'Down','Dataset'].unique()\n",
    "#run for upregulated sites\n",
    "kea_y_up = KEA3.runKEA3onDataset(y_data[['KSTAR_ACCESSION','KSTAR_SITE','KSTAR_PEPTIDE','KSTAR_NUM_COMPENDIA','KSTAR_NUM_COMPENDIA_CLASS']+list(up_datasets)], direction = 'Up')\n",
    "#extract mean ranks in matrix format from provided KEA3 results\n",
    "rearranged = pd.DataFrame(None, columns = kea_y_up['Query Name'].unique(), index = kea_y_up['TF'].unique())\n",
    "for exp in kea_y_up['Query Name'].unique():\n",
    "    tmp = kea_y_up[kea_y_up['Query Name'] == exp]\n",
    "    tmp.index = tmp['TF']\n",
    "    rearranged.loc[tmp.index, exp] = tmp['Score']\n",
    "\n",
    "kea_y_up = rearranged.astype(float)\n",
    "\n",
    "\n",
    "#run for downregulated sites\n",
    "kea_y_down = KEA3.runKEA3onDataset(y_data[['KSTAR_ACCESSION','KSTAR_SITE','KSTAR_PEPTIDE','KSTAR_NUM_COMPENDIA','KSTAR_NUM_COMPENDIA_CLASS']+list(down_datasets)], direction = 'Down')\n",
    "#extract mean ranks in matrix format from provided KEA3 results\n",
    "rearranged = pd.DataFrame(None, columns = kea_y_down['Query Name'].unique(), index = kea_y_down['TF'].unique())\n",
    "for exp in kea_y_down['Query Name'].unique():\n",
    "    tmp = kea_y_down[kea_y_down['Query Name'] == exp]\n",
    "    tmp.index = tmp['TF']\n",
    "    rearranged.loc[tmp.index, exp] = tmp['Score']\n",
    "\n",
    "kea_y_down = rearranged.astype(float)\n",
    "#combine results\n",
    "kea_y = pd.concat([kea_y_up, kea_y_down],axis = 1)"
   ]
  },
  {
   "cell_type": "code",
   "execution_count": null,
   "id": "326fe333",
   "metadata": {},
   "outputs": [],
   "source": [
    "#ST\n",
    "#need to split the dataset between up and downregulated\n",
    "up_datasets = st_meta.loc[st_meta['Direction'] == 'Up','Dataset'].unique()\n",
    "down_datasets = st_meta.loc[st_meta['Direction'] == 'Down','Dataset'].unique()\n",
    "#run for upregulated sites\n",
    "kea_st_up = KEA3.runKEA3onDataset(st_data[['KSTAR_ACCESSION','KSTAR_SITE']+list(up_datasets)], direction = 'Up')\n",
    "#extract mean ranks in matrix format from provided KEA3 results\n",
    "rearranged = pd.DataFrame(None, columns = kea_st_up['Query Name'].unique(), index = kea_st_up['TF'].unique())\n",
    "for exp in kea_st_up['Query Name'].unique():\n",
    "    tmp = kea_st_up[kea_st_up['Query Name'] == exp]\n",
    "    tmp.index = tmp['TF']\n",
    "    rearranged.loc[tmp.index, exp] = tmp['Score']\n",
    "\n",
    "kea_st_up = rearranged.astype(float)\n",
    "\n",
    "\n",
    "#run for downregulated sites\n",
    "kea_st_down = KEA3.runKEA3onDataset(st_data[['KSTAR_ACCESSION','KSTAR_SITE']+list(down_datasets)], direction = 'Down')\n",
    "#extract mean ranks in matrix format from provided KEA3 results\n",
    "rearranged = pd.DataFrame(None, columns = kea_st_down['Query Name'].unique(), index = kea_st_down['TF'].unique())\n",
    "for exp in kea_st_down['Query Name'].unique():\n",
    "    tmp = kea_st_down[kea_st_down['Query Name'] == exp]\n",
    "    tmp.index = tmp['TF']\n",
    "    rearranged.loc[tmp.index, exp] = tmp['Score']\n",
    "\n",
    "kea_st_down = rearranged.astype(float)\n",
    "#combine results\n",
    "kea_st = pd.concat([kea_st_up, kea_st_down], axis = 1)"
   ]
  }
 ],
 "metadata": {
  "kernelspec": {
   "display_name": "Python 3 (ipykernel)",
   "language": "python",
   "name": "python3"
  },
  "language_info": {
   "codemirror_mode": {
    "name": "ipython",
    "version": 3
   },
   "file_extension": ".py",
   "mimetype": "text/x-python",
   "name": "python",
   "nbconvert_exporter": "python",
   "pygments_lexer": "ipython3",
   "version": "3.9.7"
  }
 },
 "nbformat": 4,
 "nbformat_minor": 5
}
